{
  "cells": [
    {
      "cell_type": "code",
      "execution_count": null,
      "metadata": {
        "id": "j-Yy4Sp-G3c4"
      },
      "outputs": [
        {
          "ename": "",
          "evalue": "",
          "output_type": "error",
          "traceback": [
            "\u001b[1;31mRunning cells with 'Python 3.12.6' requires the ipykernel package.\n",
            "\u001b[1;31mRun the following command to install 'ipykernel' into the Python environment. \n",
            "\u001b[1;31mCommand: 'c:/Users/julio.santana/AppData/Local/Microsoft/WindowsApps/python3.12.exe -m pip install ipykernel -U --user --force-reinstall'"
          ]
        }
      ],
      "source": [
        "from image_processing_julio.utils import io, plot\n",
        "from image_processing_julio.processing import combination, transformation"
      ]
    },
    {
      "cell_type": "code",
      "execution_count": null,
      "metadata": {
        "id": "xh5Kq-JpG3c_"
      },
      "outputs": [],
      "source": [
        "# read the images\n",
        "image1 = io.read_image('C:/Users/julio.santana/Desktop/Curso de Python/Projetos DIO/criacao-pacotes-processamento-imagens-python-main/criacao-pacotes-processamento-imagens-python-main/python_image/imagesflores2.jpg')\n",
        "image2 = io.read_image('C:\\Users\\julio.santana\\Desktop\\Curso de Python/Projetos DIO/criacao-pacotes-processamento-imagens-python-main/criacao-pacotes-processamento-imagens-python-main/python_image/imagesfloresta.jpg')"
      ]
    },
    {
      "cell_type": "code",
      "execution_count": null,
      "metadata": {
        "id": "Qp1Rb1iaG3dA",
        "outputId": "2bc980b2-da34-4419-a258-d61bca8a4bd9"
      },
      "outputs": [],
      "source": [
        "#display the imagens\n",
        "plot.plot_image(image1)\n",
        "plot.plot_image(image2)"
      ]
    },
    {
      "cell_type": "code",
      "execution_count": null,
      "metadata": {
        "id": "itSzdzFsG3dB",
        "outputId": "92450d77-cb53-4f9f-fb66-74f236d571cb"
      },
      "outputs": [],
      "source": [
        "#combination \n",
        "result_image = combination.transfer_histogram(image1, image2)\n",
        "plot.plot_result(image1, image2, result_image)"
      ]
    },
    {
      "cell_type": "code",
      "execution_count": null,
      "metadata": {
        "id": "l9GMcEALG3dC"
      },
      "outputs": [],
      "source": [
        "import numpy as np\n",
        "import skimage.color\n",
        "import skimage.io\n",
        "import matplotlib.pyplot as plt"
      ]
    },
    {
      "cell_type": "code",
      "execution_count": null,
      "metadata": {
        "id": "UGhAWU6WG3dD",
        "outputId": "65aac1b5-4780-463c-8139-29281ac8e028"
      },
      "outputs": [],
      "source": [
        "# read the image \n",
        "image = skimage.io.imread(fname='C:/Users/julio.santana/Desktop/Curso de Python/Projetos DIO/criacao-pacotes-processamento-imagens-python-main/criacao-pacotes-processamento-imagens-python-main/python_image/images/natureza.jpg', as_gray=True)\n",
        "\n",
        "#display the image\n",
        "fig, ax = plt.subplots()\n",
        "plt.imshow(image, cmap='gray')\n",
        "plt.show()"
      ]
    }
  ],
  "metadata": {
    "colab": {
      "name": "image_processing_project-checkpoint.ipynb",
      "provenance": []
    },
    "kernelspec": {
      "display_name": "Python 3",
      "language": "python",
      "name": "python3"
    },
    "language_info": {
      "codemirror_mode": {
        "name": "ipython",
        "version": 3
      },
      "file_extension": ".py",
      "mimetype": "text/x-python",
      "name": "python",
      "nbconvert_exporter": "python",
      "pygments_lexer": "ipython3",
      "version": "3.12.6"
    }
  },
  "nbformat": 4,
  "nbformat_minor": 0
}
